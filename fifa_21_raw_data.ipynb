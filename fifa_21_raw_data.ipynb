{
 "cells": [
  {
   "cell_type": "markdown",
   "metadata": {},
   "source": [
    "## FIFA '21 Player Ratings\n",
    "\n",
    "Here, you have a very messy and raw dataset of EA Sports' installment of their hit FIFA series - FIFA21, which was scraped from sofifa.com.\n",
    "\n",
    "Your task in this project is to clean up this dataset using the `Hints` provided in the ReadMe file"
   ]
  },
  {
   "cell_type": "code",
   "execution_count": 12,
   "metadata": {},
   "outputs": [],
   "source": [
    "import pandas as pd\n",
    "import numpy as np\n",
    "import os\n",
    "%matplotlib inline\n",
    "import re\n"
   ]
  },
  {
   "cell_type": "markdown",
   "metadata": {},
   "source": [
    "**Question 1:** Load the fifa dataset into a variable called `fifa_dataset`. Next, write a function called `check_data` to check if the `fifa_dataset` is empty or not by returning True or False."
   ]
  },
  {
   "cell_type": "code",
   "execution_count": 13,
   "metadata": {
    "tags": []
   },
   "outputs": [],
   "source": [
    "fifa_dataset = pd.read_csv('fifa_21_raw_data.csv', engine='python')\n",
    "\n",
    "def check_data(fifa_dataset):\n",
    "    return fifa_dataset.empty\n",
    "\n"
   ]
  },
  {
   "cell_type": "markdown",
   "metadata": {},
   "source": [
    "**Question 2:** Remove all duplicate player `name` from the dataset. Remember, you need to leave the first occurence and remove other ones."
   ]
  },
  {
   "cell_type": "code",
   "execution_count": 14,
   "metadata": {
    "tags": []
   },
   "outputs": [],
   "source": [
    "def remove_duplicate(dataset):\n",
    "    return dataset.drop_duplicates(subset=\"Name\", keep=\"first\", inplace=True)\n",
    "\n",
    "# Call the function to remove duplicates\n",
    "remove_duplicate(fifa_dataset)\n",
    "\n"
   ]
  },
  {
   "cell_type": "markdown",
   "metadata": {},
   "source": [
    "**Question 3:** Remove all leading white spaces or newline \"\\n\" in the `club` column. For example, `\"\\n\\n\\n\\nFC Barcelona\"` should be transformed into `\"FC Barcelona\"`\n",
    "\n"
   ]
  },
  {
   "cell_type": "code",
   "execution_count": 15,
   "metadata": {
    "tags": []
   },
   "outputs": [],
   "source": [
    "def remove_newline(dataset):\n",
    "    dataset['Club'] = dataset['Club'].str.strip('\\n')\n",
    "\n",
    "# Call the function to remove newline characters from the \"Club\" column\n",
    "remove_newline(fifa_dataset)\n"
   ]
  },
  {
   "cell_type": "markdown",
   "metadata": {},
   "source": [
    "**Question 4:** List the TOP 5 countries with the highest number of representation of players in the data. Create a dictionary called `top_5_country` using the country names as the key and the number of players as the value. For example,\n",
    "\n",
    "`top_5_country` = {'Kenya': 15,\n",
    "                  'Nigeria': 45,\n",
    "                  'Ghana': 14,\n",
    "                  'Canada': 20,\n",
    "                  'USA': 88\n",
    "                 }\n"
   ]
  },
  {
   "cell_type": "code",
   "execution_count": 16,
   "metadata": {
    "tags": []
   },
   "outputs": [
    {
     "data": {
      "text/plain": [
       "{'England': 1574,\n",
       " 'Germany': 1178,\n",
       " 'Spain': 1019,\n",
       " 'France': 971,\n",
       " 'Argentina': 861}"
      ]
     },
     "execution_count": 16,
     "metadata": {},
     "output_type": "execute_result"
    }
   ],
   "source": [
    "# Count the number of players from each country\n",
    "country_counts = fifa_dataset['Nationality'].value_counts()\n",
    "\n",
    "# Get the top 5 countries and convert to dict\n",
    "top_5_country = country_counts.head(5).to_dict()\n",
    "\n",
    "# Print the dictionary\n",
    "top_5_country\n"
   ]
  },
  {
   "cell_type": "markdown",
   "metadata": {},
   "source": [
    "<!-- BEGIN QUESTION -->\n",
    "\n",
    "**Question 5:** What insight can you derive from this data?"
   ]
  },
  {
   "cell_type": "markdown",
   "metadata": {},
   "source": [
    "Some of the insights that I can draw from this data is that; \n",
    "1. Majority of the players come from the big 5 leagues that is - England, Germany, Spain, France and Argentina.\n",
    "2. We have a majority of players missing their hit data. \n"
   ]
  },
  {
   "cell_type": "markdown",
   "metadata": {},
   "source": [
    "The Below attempts are from the hints given in the README"
   ]
  },
  {
   "cell_type": "markdown",
   "metadata": {},
   "source": [
    "Hints Additionals \n",
    "Converting the height to numerical values<!-- END QUESTION -->\n",
    "\n"
   ]
  },
  {
   "cell_type": "code",
   "execution_count": 17,
   "metadata": {},
   "outputs": [
    {
     "data": {
      "text/html": [
       "<div>\n",
       "<style scoped>\n",
       "    .dataframe tbody tr th:only-of-type {\n",
       "        vertical-align: middle;\n",
       "    }\n",
       "\n",
       "    .dataframe tbody tr th {\n",
       "        vertical-align: top;\n",
       "    }\n",
       "\n",
       "    .dataframe thead th {\n",
       "        text-align: right;\n",
       "    }\n",
       "</style>\n",
       "<table border=\"1\" class=\"dataframe\">\n",
       "  <thead>\n",
       "    <tr style=\"text-align: right;\">\n",
       "      <th></th>\n",
       "      <th>Name</th>\n",
       "      <th>Height</th>\n",
       "      <th>Weight</th>\n",
       "    </tr>\n",
       "  </thead>\n",
       "  <tbody>\n",
       "    <tr>\n",
       "      <th>0</th>\n",
       "      <td>L. Messi</td>\n",
       "      <td>66.929170</td>\n",
       "      <td>72kg</td>\n",
       "    </tr>\n",
       "    <tr>\n",
       "      <th>1</th>\n",
       "      <td>Cristiano Ronaldo</td>\n",
       "      <td>73.622087</td>\n",
       "      <td>83kg</td>\n",
       "    </tr>\n",
       "    <tr>\n",
       "      <th>2</th>\n",
       "      <td>J. Oblak</td>\n",
       "      <td>74.015788</td>\n",
       "      <td>87kg</td>\n",
       "    </tr>\n",
       "    <tr>\n",
       "      <th>3</th>\n",
       "      <td>K. De Bruyne</td>\n",
       "      <td>71.259881</td>\n",
       "      <td>70kg</td>\n",
       "    </tr>\n",
       "    <tr>\n",
       "      <th>4</th>\n",
       "      <td>Neymar Jr</td>\n",
       "      <td>68.897675</td>\n",
       "      <td>68kg</td>\n",
       "    </tr>\n",
       "  </tbody>\n",
       "</table>\n",
       "</div>"
      ],
      "text/plain": [
       "                Name     Height Weight\n",
       "0           L. Messi  66.929170   72kg\n",
       "1  Cristiano Ronaldo  73.622087   83kg\n",
       "2           J. Oblak  74.015788   87kg\n",
       "3       K. De Bruyne  71.259881   70kg\n",
       "4          Neymar Jr  68.897675   68kg"
      ]
     },
     "execution_count": 17,
     "metadata": {},
     "output_type": "execute_result"
    }
   ],
   "source": [
    "\n",
    "# Function to convert height to inches\n",
    "def height_to_inches(height):\n",
    "    # Extract the numeric part using a regular expression\n",
    "    match = re.search(r'(\\d+)\\'(\\d+)', height)\n",
    "    if match:\n",
    "        feet, inches = map(int, match.groups())\n",
    "        return feet * 12 + inches\n",
    "    else:\n",
    "        # Handle the case where the height is in centimeters (e.g., \"170cm\")\n",
    "        match_cm = re.search(r'(\\d+)cm', height)\n",
    "        if match_cm:\n",
    "            height_in_cm = int(match_cm.group(1))\n",
    "            # Convert height from centimeters to inches\n",
    "            return height_in_cm * 0.393701  # 1 centimeter is approximately 0.393701 inches\n",
    "        else:\n",
    "            return None\n",
    "\n",
    "# Apply the height_to_inches function to the \"Height\" column\n",
    "fifa_dataset['Height'] = fifa_dataset['Height'].apply(height_to_inches)\n",
    "\n",
    "# Check the first few rows to verify the conversion\n",
    "fifa_dataset[['Name', 'Height', 'Weight']].head()\n"
   ]
  },
  {
   "cell_type": "markdown",
   "metadata": {},
   "source": [
    "Additional Hint - Split the Long Name to First Name and Last Name"
   ]
  },
  {
   "cell_type": "code",
   "execution_count": 18,
   "metadata": {},
   "outputs": [
    {
     "data": {
      "text/html": [
       "<div>\n",
       "<style scoped>\n",
       "    .dataframe tbody tr th:only-of-type {\n",
       "        vertical-align: middle;\n",
       "    }\n",
       "\n",
       "    .dataframe tbody tr th {\n",
       "        vertical-align: top;\n",
       "    }\n",
       "\n",
       "    .dataframe thead th {\n",
       "        text-align: right;\n",
       "    }\n",
       "</style>\n",
       "<table border=\"1\" class=\"dataframe\">\n",
       "  <thead>\n",
       "    <tr style=\"text-align: right;\">\n",
       "      <th></th>\n",
       "      <th>ID</th>\n",
       "      <th>Name</th>\n",
       "      <th>LongName</th>\n",
       "      <th>photoUrl</th>\n",
       "      <th>playerUrl</th>\n",
       "      <th>Nationality</th>\n",
       "      <th>Age</th>\n",
       "      <th>↓OVA</th>\n",
       "      <th>POT</th>\n",
       "      <th>Club</th>\n",
       "      <th>...</th>\n",
       "      <th>IR</th>\n",
       "      <th>PAC</th>\n",
       "      <th>SHO</th>\n",
       "      <th>PAS</th>\n",
       "      <th>DRI</th>\n",
       "      <th>DEF</th>\n",
       "      <th>PHY</th>\n",
       "      <th>Hits</th>\n",
       "      <th>First Name</th>\n",
       "      <th>Last Name</th>\n",
       "    </tr>\n",
       "  </thead>\n",
       "  <tbody>\n",
       "    <tr>\n",
       "      <th>0</th>\n",
       "      <td>158023</td>\n",
       "      <td>L. Messi</td>\n",
       "      <td>Lionel Messi</td>\n",
       "      <td>https://cdn.sofifa.com/players/158/023/21_60.png</td>\n",
       "      <td>http://sofifa.com/player/158023/lionel-messi/2...</td>\n",
       "      <td>Argentina</td>\n",
       "      <td>33</td>\n",
       "      <td>93</td>\n",
       "      <td>93</td>\n",
       "      <td>FC Barcelona</td>\n",
       "      <td>...</td>\n",
       "      <td>5 ★</td>\n",
       "      <td>85</td>\n",
       "      <td>92</td>\n",
       "      <td>91</td>\n",
       "      <td>95</td>\n",
       "      <td>38</td>\n",
       "      <td>65</td>\n",
       "      <td>771</td>\n",
       "      <td>Lionel</td>\n",
       "      <td>Messi</td>\n",
       "    </tr>\n",
       "    <tr>\n",
       "      <th>1</th>\n",
       "      <td>20801</td>\n",
       "      <td>Cristiano Ronaldo</td>\n",
       "      <td>C. Ronaldo dos Santos Aveiro</td>\n",
       "      <td>https://cdn.sofifa.com/players/020/801/21_60.png</td>\n",
       "      <td>http://sofifa.com/player/20801/c-ronaldo-dos-s...</td>\n",
       "      <td>Portugal</td>\n",
       "      <td>35</td>\n",
       "      <td>92</td>\n",
       "      <td>92</td>\n",
       "      <td>Juventus</td>\n",
       "      <td>...</td>\n",
       "      <td>5 ★</td>\n",
       "      <td>89</td>\n",
       "      <td>93</td>\n",
       "      <td>81</td>\n",
       "      <td>89</td>\n",
       "      <td>35</td>\n",
       "      <td>77</td>\n",
       "      <td>562</td>\n",
       "      <td>C.</td>\n",
       "      <td>Ronaldo dos Santos Aveiro</td>\n",
       "    </tr>\n",
       "    <tr>\n",
       "      <th>2</th>\n",
       "      <td>200389</td>\n",
       "      <td>J. Oblak</td>\n",
       "      <td>Jan Oblak</td>\n",
       "      <td>https://cdn.sofifa.com/players/200/389/21_60.png</td>\n",
       "      <td>http://sofifa.com/player/200389/jan-oblak/210006/</td>\n",
       "      <td>Slovenia</td>\n",
       "      <td>27</td>\n",
       "      <td>91</td>\n",
       "      <td>93</td>\n",
       "      <td>Atlético Madrid</td>\n",
       "      <td>...</td>\n",
       "      <td>3 ★</td>\n",
       "      <td>87</td>\n",
       "      <td>92</td>\n",
       "      <td>78</td>\n",
       "      <td>90</td>\n",
       "      <td>52</td>\n",
       "      <td>90</td>\n",
       "      <td>150</td>\n",
       "      <td>Jan</td>\n",
       "      <td>Oblak</td>\n",
       "    </tr>\n",
       "    <tr>\n",
       "      <th>3</th>\n",
       "      <td>192985</td>\n",
       "      <td>K. De Bruyne</td>\n",
       "      <td>Kevin De Bruyne</td>\n",
       "      <td>https://cdn.sofifa.com/players/192/985/21_60.png</td>\n",
       "      <td>http://sofifa.com/player/192985/kevin-de-bruyn...</td>\n",
       "      <td>Belgium</td>\n",
       "      <td>29</td>\n",
       "      <td>91</td>\n",
       "      <td>91</td>\n",
       "      <td>Manchester City</td>\n",
       "      <td>...</td>\n",
       "      <td>4 ★</td>\n",
       "      <td>76</td>\n",
       "      <td>86</td>\n",
       "      <td>93</td>\n",
       "      <td>88</td>\n",
       "      <td>64</td>\n",
       "      <td>78</td>\n",
       "      <td>207</td>\n",
       "      <td>Kevin</td>\n",
       "      <td>De Bruyne</td>\n",
       "    </tr>\n",
       "    <tr>\n",
       "      <th>4</th>\n",
       "      <td>190871</td>\n",
       "      <td>Neymar Jr</td>\n",
       "      <td>Neymar da Silva Santos Jr.</td>\n",
       "      <td>https://cdn.sofifa.com/players/190/871/21_60.png</td>\n",
       "      <td>http://sofifa.com/player/190871/neymar-da-silv...</td>\n",
       "      <td>Brazil</td>\n",
       "      <td>28</td>\n",
       "      <td>91</td>\n",
       "      <td>91</td>\n",
       "      <td>Paris Saint-Germain</td>\n",
       "      <td>...</td>\n",
       "      <td>5 ★</td>\n",
       "      <td>91</td>\n",
       "      <td>85</td>\n",
       "      <td>86</td>\n",
       "      <td>94</td>\n",
       "      <td>36</td>\n",
       "      <td>59</td>\n",
       "      <td>595</td>\n",
       "      <td>Neymar</td>\n",
       "      <td>da Silva Santos Jr.</td>\n",
       "    </tr>\n",
       "  </tbody>\n",
       "</table>\n",
       "<p>5 rows × 79 columns</p>\n",
       "</div>"
      ],
      "text/plain": [
       "       ID               Name                      LongName  \\\n",
       "0  158023           L. Messi                  Lionel Messi   \n",
       "1   20801  Cristiano Ronaldo  C. Ronaldo dos Santos Aveiro   \n",
       "2  200389           J. Oblak                     Jan Oblak   \n",
       "3  192985       K. De Bruyne               Kevin De Bruyne   \n",
       "4  190871          Neymar Jr    Neymar da Silva Santos Jr.   \n",
       "\n",
       "                                           photoUrl  \\\n",
       "0  https://cdn.sofifa.com/players/158/023/21_60.png   \n",
       "1  https://cdn.sofifa.com/players/020/801/21_60.png   \n",
       "2  https://cdn.sofifa.com/players/200/389/21_60.png   \n",
       "3  https://cdn.sofifa.com/players/192/985/21_60.png   \n",
       "4  https://cdn.sofifa.com/players/190/871/21_60.png   \n",
       "\n",
       "                                           playerUrl Nationality  Age  ↓OVA  \\\n",
       "0  http://sofifa.com/player/158023/lionel-messi/2...   Argentina   33    93   \n",
       "1  http://sofifa.com/player/20801/c-ronaldo-dos-s...    Portugal   35    92   \n",
       "2  http://sofifa.com/player/200389/jan-oblak/210006/    Slovenia   27    91   \n",
       "3  http://sofifa.com/player/192985/kevin-de-bruyn...     Belgium   29    91   \n",
       "4  http://sofifa.com/player/190871/neymar-da-silv...      Brazil   28    91   \n",
       "\n",
       "   POT                 Club  ...   IR PAC  SHO PAS DRI  DEF PHY Hits  \\\n",
       "0   93         FC Barcelona  ...  5 ★  85   92  91  95   38  65  771   \n",
       "1   92             Juventus  ...  5 ★  89   93  81  89   35  77  562   \n",
       "2   93      Atlético Madrid  ...  3 ★  87   92  78  90   52  90  150   \n",
       "3   91      Manchester City  ...  4 ★  76   86  93  88   64  78  207   \n",
       "4   91  Paris Saint-Germain  ...  5 ★  91   85  86  94   36  59  595   \n",
       "\n",
       "  First Name                  Last Name  \n",
       "0     Lionel                      Messi  \n",
       "1         C.  Ronaldo dos Santos Aveiro  \n",
       "2        Jan                      Oblak  \n",
       "3      Kevin                  De Bruyne  \n",
       "4     Neymar        da Silva Santos Jr.  \n",
       "\n",
       "[5 rows x 79 columns]"
      ]
     },
     "execution_count": 18,
     "metadata": {},
     "output_type": "execute_result"
    }
   ],
   "source": [
    "# Split the \"LongName\" into two new columns - \"First Name\" and \"Last Name\"\n",
    "fifa_dataset[['First Name', 'Last Name']] = fifa_dataset['LongName'].str.split(' ', n=1, expand=True)\n",
    "fifa_dataset.head()"
   ]
  },
  {
   "cell_type": "markdown",
   "metadata": {},
   "source": [
    "Handle Missing Values with statistics"
   ]
  },
  {
   "cell_type": "code",
   "execution_count": 19,
   "metadata": {},
   "outputs": [
    {
     "name": "stdout",
     "output_type": "stream",
     "text": [
      "Loan Date End    16961\n",
      "Hits              2361\n",
      "dtype: int64\n"
     ]
    }
   ],
   "source": [
    "# Check for missing values and count them for each column\n",
    "missing_values = fifa_dataset.isna().sum()\n",
    "\n",
    "# Filter columns with missing values\n",
    "columns_with_missing_values = missing_values[missing_values > 0]\n",
    "\n",
    "# Display the columns with missing values and the count of missing values to understand columns to fill in\n",
    "print(columns_with_missing_values)\n",
    "\n",
    "# Fill missing values in \"Loan Date End\" with the mode (most frequent value)\n",
    "mode_loan_date_end = fifa_dataset['Loan Date End'].mode().iloc[0]\n",
    "fifa_dataset['Loan Date End'] = fifa_dataset['Loan Date End'].fillna(mode_loan_date_end)\n",
    "\n",
    "# Convert the \"Hits\" column to numeric (integer)\n",
    "fifa_dataset['Hits'] = pd.to_numeric(fifa_dataset['Hits'], errors='coerce')\n",
    "\n",
    "# Calculate the mean for the \"Hits\" column\n",
    "mean_hits = fifa_dataset['Hits'].mean()\n",
    "\n",
    "# Fill missing values with the calculated mean\n",
    "fifa_dataset['Hits'] = fifa_dataset['Hits'].fillna(mean_hits)\n"
   ]
  },
  {
   "cell_type": "markdown",
   "metadata": {},
   "source": [
    "Hint  - COnvert Value, Wage and Release Clause to numbers"
   ]
  },
  {
   "cell_type": "code",
   "execution_count": 20,
   "metadata": {},
   "outputs": [
    {
     "data": {
      "text/html": [
       "<div>\n",
       "<style scoped>\n",
       "    .dataframe tbody tr th:only-of-type {\n",
       "        vertical-align: middle;\n",
       "    }\n",
       "\n",
       "    .dataframe tbody tr th {\n",
       "        vertical-align: top;\n",
       "    }\n",
       "\n",
       "    .dataframe thead th {\n",
       "        text-align: right;\n",
       "    }\n",
       "</style>\n",
       "<table border=\"1\" class=\"dataframe\">\n",
       "  <thead>\n",
       "    <tr style=\"text-align: right;\">\n",
       "      <th></th>\n",
       "      <th>ID</th>\n",
       "      <th>Name</th>\n",
       "      <th>LongName</th>\n",
       "      <th>photoUrl</th>\n",
       "      <th>playerUrl</th>\n",
       "      <th>Nationality</th>\n",
       "      <th>Age</th>\n",
       "      <th>↓OVA</th>\n",
       "      <th>POT</th>\n",
       "      <th>Club</th>\n",
       "      <th>...</th>\n",
       "      <th>IR</th>\n",
       "      <th>PAC</th>\n",
       "      <th>SHO</th>\n",
       "      <th>PAS</th>\n",
       "      <th>DRI</th>\n",
       "      <th>DEF</th>\n",
       "      <th>PHY</th>\n",
       "      <th>Hits</th>\n",
       "      <th>First Name</th>\n",
       "      <th>Last Name</th>\n",
       "    </tr>\n",
       "  </thead>\n",
       "  <tbody>\n",
       "    <tr>\n",
       "      <th>0</th>\n",
       "      <td>158023</td>\n",
       "      <td>L. Messi</td>\n",
       "      <td>Lionel Messi</td>\n",
       "      <td>https://cdn.sofifa.com/players/158/023/21_60.png</td>\n",
       "      <td>http://sofifa.com/player/158023/lionel-messi/2...</td>\n",
       "      <td>Argentina</td>\n",
       "      <td>33</td>\n",
       "      <td>93</td>\n",
       "      <td>93</td>\n",
       "      <td>FC Barcelona</td>\n",
       "      <td>...</td>\n",
       "      <td>5 ★</td>\n",
       "      <td>85</td>\n",
       "      <td>92</td>\n",
       "      <td>91</td>\n",
       "      <td>95</td>\n",
       "      <td>38</td>\n",
       "      <td>65</td>\n",
       "      <td>771.0</td>\n",
       "      <td>Lionel</td>\n",
       "      <td>Messi</td>\n",
       "    </tr>\n",
       "    <tr>\n",
       "      <th>1</th>\n",
       "      <td>20801</td>\n",
       "      <td>Cristiano Ronaldo</td>\n",
       "      <td>C. Ronaldo dos Santos Aveiro</td>\n",
       "      <td>https://cdn.sofifa.com/players/020/801/21_60.png</td>\n",
       "      <td>http://sofifa.com/player/20801/c-ronaldo-dos-s...</td>\n",
       "      <td>Portugal</td>\n",
       "      <td>35</td>\n",
       "      <td>92</td>\n",
       "      <td>92</td>\n",
       "      <td>Juventus</td>\n",
       "      <td>...</td>\n",
       "      <td>5 ★</td>\n",
       "      <td>89</td>\n",
       "      <td>93</td>\n",
       "      <td>81</td>\n",
       "      <td>89</td>\n",
       "      <td>35</td>\n",
       "      <td>77</td>\n",
       "      <td>562.0</td>\n",
       "      <td>C.</td>\n",
       "      <td>Ronaldo dos Santos Aveiro</td>\n",
       "    </tr>\n",
       "    <tr>\n",
       "      <th>2</th>\n",
       "      <td>200389</td>\n",
       "      <td>J. Oblak</td>\n",
       "      <td>Jan Oblak</td>\n",
       "      <td>https://cdn.sofifa.com/players/200/389/21_60.png</td>\n",
       "      <td>http://sofifa.com/player/200389/jan-oblak/210006/</td>\n",
       "      <td>Slovenia</td>\n",
       "      <td>27</td>\n",
       "      <td>91</td>\n",
       "      <td>93</td>\n",
       "      <td>Atlético Madrid</td>\n",
       "      <td>...</td>\n",
       "      <td>3 ★</td>\n",
       "      <td>87</td>\n",
       "      <td>92</td>\n",
       "      <td>78</td>\n",
       "      <td>90</td>\n",
       "      <td>52</td>\n",
       "      <td>90</td>\n",
       "      <td>150.0</td>\n",
       "      <td>Jan</td>\n",
       "      <td>Oblak</td>\n",
       "    </tr>\n",
       "    <tr>\n",
       "      <th>3</th>\n",
       "      <td>192985</td>\n",
       "      <td>K. De Bruyne</td>\n",
       "      <td>Kevin De Bruyne</td>\n",
       "      <td>https://cdn.sofifa.com/players/192/985/21_60.png</td>\n",
       "      <td>http://sofifa.com/player/192985/kevin-de-bruyn...</td>\n",
       "      <td>Belgium</td>\n",
       "      <td>29</td>\n",
       "      <td>91</td>\n",
       "      <td>91</td>\n",
       "      <td>Manchester City</td>\n",
       "      <td>...</td>\n",
       "      <td>4 ★</td>\n",
       "      <td>76</td>\n",
       "      <td>86</td>\n",
       "      <td>93</td>\n",
       "      <td>88</td>\n",
       "      <td>64</td>\n",
       "      <td>78</td>\n",
       "      <td>207.0</td>\n",
       "      <td>Kevin</td>\n",
       "      <td>De Bruyne</td>\n",
       "    </tr>\n",
       "    <tr>\n",
       "      <th>4</th>\n",
       "      <td>190871</td>\n",
       "      <td>Neymar Jr</td>\n",
       "      <td>Neymar da Silva Santos Jr.</td>\n",
       "      <td>https://cdn.sofifa.com/players/190/871/21_60.png</td>\n",
       "      <td>http://sofifa.com/player/190871/neymar-da-silv...</td>\n",
       "      <td>Brazil</td>\n",
       "      <td>28</td>\n",
       "      <td>91</td>\n",
       "      <td>91</td>\n",
       "      <td>Paris Saint-Germain</td>\n",
       "      <td>...</td>\n",
       "      <td>5 ★</td>\n",
       "      <td>91</td>\n",
       "      <td>85</td>\n",
       "      <td>86</td>\n",
       "      <td>94</td>\n",
       "      <td>36</td>\n",
       "      <td>59</td>\n",
       "      <td>595.0</td>\n",
       "      <td>Neymar</td>\n",
       "      <td>da Silva Santos Jr.</td>\n",
       "    </tr>\n",
       "  </tbody>\n",
       "</table>\n",
       "<p>5 rows × 79 columns</p>\n",
       "</div>"
      ],
      "text/plain": [
       "       ID               Name                      LongName  \\\n",
       "0  158023           L. Messi                  Lionel Messi   \n",
       "1   20801  Cristiano Ronaldo  C. Ronaldo dos Santos Aveiro   \n",
       "2  200389           J. Oblak                     Jan Oblak   \n",
       "3  192985       K. De Bruyne               Kevin De Bruyne   \n",
       "4  190871          Neymar Jr    Neymar da Silva Santos Jr.   \n",
       "\n",
       "                                           photoUrl  \\\n",
       "0  https://cdn.sofifa.com/players/158/023/21_60.png   \n",
       "1  https://cdn.sofifa.com/players/020/801/21_60.png   \n",
       "2  https://cdn.sofifa.com/players/200/389/21_60.png   \n",
       "3  https://cdn.sofifa.com/players/192/985/21_60.png   \n",
       "4  https://cdn.sofifa.com/players/190/871/21_60.png   \n",
       "\n",
       "                                           playerUrl Nationality  Age  ↓OVA  \\\n",
       "0  http://sofifa.com/player/158023/lionel-messi/2...   Argentina   33    93   \n",
       "1  http://sofifa.com/player/20801/c-ronaldo-dos-s...    Portugal   35    92   \n",
       "2  http://sofifa.com/player/200389/jan-oblak/210006/    Slovenia   27    91   \n",
       "3  http://sofifa.com/player/192985/kevin-de-bruyn...     Belgium   29    91   \n",
       "4  http://sofifa.com/player/190871/neymar-da-silv...      Brazil   28    91   \n",
       "\n",
       "   POT                 Club  ...   IR PAC  SHO PAS DRI  DEF PHY   Hits  \\\n",
       "0   93         FC Barcelona  ...  5 ★  85   92  91  95   38  65  771.0   \n",
       "1   92             Juventus  ...  5 ★  89   93  81  89   35  77  562.0   \n",
       "2   93      Atlético Madrid  ...  3 ★  87   92  78  90   52  90  150.0   \n",
       "3   91      Manchester City  ...  4 ★  76   86  93  88   64  78  207.0   \n",
       "4   91  Paris Saint-Germain  ...  5 ★  91   85  86  94   36  59  595.0   \n",
       "\n",
       "  First Name                  Last Name  \n",
       "0     Lionel                      Messi  \n",
       "1         C.  Ronaldo dos Santos Aveiro  \n",
       "2        Jan                      Oblak  \n",
       "3      Kevin                  De Bruyne  \n",
       "4     Neymar        da Silva Santos Jr.  \n",
       "\n",
       "[5 rows x 79 columns]"
      ]
     },
     "execution_count": 20,
     "metadata": {},
     "output_type": "execute_result"
    }
   ],
   "source": [
    "# Convert string columns to numerical values\n",
    "def convert_to_numeric(value_str):\n",
    "    if 'M' in value_str:\n",
    "        # Convert million to numeric\n",
    "        value_str = value_str.replace('M', '').replace('€', '').replace(',', '')\n",
    "        return float(value_str) * 1000000\n",
    "    elif 'K' in value_str:\n",
    "        # Convert thousand to numeric\n",
    "        value_str = value_str.replace('K', '').replace('€', '').replace(',', '')\n",
    "        return float(value_str) * 1000\n",
    "    else:\n",
    "        # Handle cases with no suffix (e.g., direct numeric values)\n",
    "        return float(value_str.replace('€', '').replace(',', ''))\n",
    "\n",
    "# Apply the conversion function to \"Value,\" \"Wage,\" and \"Release Clause\" columns\n",
    "fifa_dataset['Value'] = fifa_dataset['Value'].apply(convert_to_numeric)\n",
    "fifa_dataset['Wage'] = fifa_dataset['Wage'].apply(convert_to_numeric)\n",
    "fifa_dataset['Release Clause'] = fifa_dataset['Release Clause'].apply(convert_to_numeric)\n",
    "fifa_dataset.head()\n",
    "\n"
   ]
  },
  {
   "cell_type": "markdown",
   "metadata": {},
   "source": [
    "Hints  - Convert currency characters to '$' in the specified columns ['Value', 'Wage', 'Release Clause']"
   ]
  },
  {
   "cell_type": "code",
   "execution_count": 21,
   "metadata": {},
   "outputs": [
    {
     "name": "stdout",
     "output_type": "stream",
     "text": [
      "              Value       Wage Release Clause\n",
      "0      $103500000.0  $560000.0   $138400000.0\n",
      "1       $63000000.0  $220000.0    $75900000.0\n",
      "2      $120000000.0  $125000.0   $159400000.0\n",
      "3      $129000000.0  $370000.0   $161000000.0\n",
      "4      $132000000.0  $270000.0   $166500000.0\n",
      "...             ...        ...            ...\n",
      "18974     $100000.0    $1000.0       $70000.0\n",
      "18975     $130000.0     $500.0      $165000.0\n",
      "18976     $120000.0     $500.0      $131000.0\n",
      "18977     $100000.0    $2000.0       $88000.0\n",
      "18978     $100000.0    $1000.0       $79000.0\n",
      "\n",
      "[17920 rows x 3 columns]\n"
     ]
    }
   ],
   "source": [
    "# Convert currency characters to '$' in the specified columns\n",
    "columns_to_convert = ['Value', 'Wage', 'Release Clause']\n",
    "\n",
    "for column in columns_to_convert:\n",
    "    fifa_dataset[column] = '$' + fifa_dataset[column].astype(str)\n",
    "\n",
    "\n",
    "\n",
    "columns_to_print = ['Value', 'Wage', 'Release Clause']\n",
    "\n",
    "print(fifa_dataset[columns_to_print])\n"
   ]
  }
 ],
 "metadata": {
  "kernelspec": {
   "display_name": "Python 3",
   "language": "python",
   "name": "python3"
  },
  "language_info": {
   "codemirror_mode": {
    "name": "ipython",
    "version": 3
   },
   "file_extension": ".py",
   "mimetype": "text/x-python",
   "name": "python",
   "nbconvert_exporter": "python",
   "pygments_lexer": "ipython3",
   "version": "3.12.2"
  },
  "otter": {
   "OK_FORMAT": true,
   "tests": {
    "q1": {
     "name": "q1",
     "points": 1,
     "suites": [
      {
       "cases": [
        {
         "code": ">>> fifa_dataset = pd.read_csv('fifa_21_raw_data.csv', engine='python')\n>>> \n>>> check_data(fifa_dataset)\nFalse",
         "hidden": false,
         "locked": false
        }
       ],
       "scored": true,
       "setup": "",
       "teardown": "",
       "type": "doctest"
      }
     ]
    },
    "q2": {
     "name": "q2",
     "points": 1,
     "suites": [
      {
       "cases": [
        {
         "code": ">>> remove_duplicate(fifa_dataset)\n>>> fifa_dataset['Name'].duplicated().any() == False\nTrue",
         "hidden": false,
         "locked": false
        }
       ],
       "scored": true,
       "setup": "",
       "teardown": "",
       "type": "doctest"
      }
     ]
    },
    "q3": {
     "name": "q3",
     "points": 1,
     "suites": [
      {
       "cases": [
        {
         "code": ">>> len(fifa_dataset[\"Name\"].unique()) > 1000\nTrue",
         "hidden": false,
         "locked": false
        },
        {
         "code": ">>> type(fifa_dataset[\"Club\"]) == pd.Series\nTrue",
         "hidden": false,
         "locked": false
        }
       ],
       "scored": true,
       "setup": "",
       "teardown": "",
       "type": "doctest"
      }
     ]
    },
    "q4": {
     "name": "q4",
     "points": 1,
     "suites": [
      {
       "cases": [
        {
         "code": ">>> type(top_5_country) is dict\nTrue",
         "hidden": false,
         "locked": false
        },
        {
         "code": ">>> len(top_5_country) == 5\nTrue",
         "hidden": false,
         "locked": false
        }
       ],
       "scored": true,
       "setup": "",
       "teardown": "",
       "type": "doctest"
      }
     ]
    }
   }
  },
  "varInspector": {
   "cols": {
    "lenName": 16,
    "lenType": 16,
    "lenVar": 40
   },
   "kernels_config": {
    "python": {
     "delete_cmd_postfix": "",
     "delete_cmd_prefix": "del ",
     "library": "var_list.py",
     "varRefreshCmd": "print(var_dic_list())"
    },
    "r": {
     "delete_cmd_postfix": ") ",
     "delete_cmd_prefix": "rm(",
     "library": "var_list.r",
     "varRefreshCmd": "cat(var_dic_list()) "
    }
   },
   "types_to_exclude": [
    "module",
    "function",
    "builtin_function_or_method",
    "instance",
    "_Feature"
   ],
   "window_display": false
  }
 },
 "nbformat": 4,
 "nbformat_minor": 4
}
